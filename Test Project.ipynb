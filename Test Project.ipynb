{
 "cells": [
  {
   "cell_type": "code",
   "execution_count": 11,
   "metadata": {
    "collapsed": true
   },
   "outputs": [],
   "source": [
    "import tensorflow as tf\n",
    "import os, sys\n",
    "import numpy as np\n",
    "import matplotlib.pyplot as plt\n",
    "import matplotlib.image as mpimg\n",
    "%matplotlib inline"
   ]
  },
  {
   "cell_type": "code",
   "execution_count": 12,
   "metadata": {
    "collapsed": true
   },
   "outputs": [],
   "source": [
    "def get_files():\n",
    "    with tf.name_scope('Get_data_labels'):\n",
    "        Dz = []\n",
    "        label_dz = []\n",
    "        Zw = []\n",
    "        label_zw = []   \n",
    "        path = \"/Users/shangsuiyue/basictest/\"\n",
    "        for file in os.listdir(path):\n",
    "            name = file.split(sep='_')\n",
    "            if name[0] == 'Dz':\n",
    "                Dz.append(path+file)\n",
    "                label_dz.append(0)\n",
    "            elif name[0] == 'Zw':\n",
    "                Zw.append(path+file)\n",
    "                label_zw.append(1)\n",
    "            else:\n",
    "                pass      \n",
    "        image_list = np.hstack(( Dz , Zw ))\n",
    "        label_list = np.hstack(( label_dz , label_zw ))\n",
    "      \n",
    "        temp = np.array([image_list,label_list])\n",
    "        temp = temp.transpose()\n",
    "        np.random.shuffle(temp)\n",
    "        image_list = list(temp[:,0])\n",
    "        label_list = list(temp[:,1])\n",
    "        label_list = [int(i) for i in label_list]      \n",
    "      # label_list=tf.one_hot(label_list,2,1,0,-1)\n",
    "    return image_list, label_list  "
   ]
  },
  {
   "cell_type": "code",
   "execution_count": 13,
   "metadata": {
    "collapsed": true
   },
   "outputs": [],
   "source": [
    "def get_batch(image,label,image_W,image_H,batch_size,capacity):\n",
    "    #use tf.cast() to convert the type\n",
    "    image = tf.cast(image,tf.string)\n",
    "    label = tf.cast(label,tf.int32)\n",
    "\n",
    "    #queue\n",
    "    input_queue = tf.train.slice_input_producer([image,label])\n",
    "    \n",
    "    #Decode a JPEG-encoded image to a uint8 tensor.\n",
    "    label = input_queue[1]\n",
    "    image_contents = tf.read_file(input_queue[0])\n",
    "    image = tf.image.decode_jpeg(image_contents,channels=3)\n",
    "    #resize\n",
    "    image = tf.image.resize_image_with_crop_or_pad(image,image_W,image_H)\n",
    "    \n",
    "    #standardization\n",
    "    image = tf.image.per_image_standardization(image)\n",
    "   \n",
    "\n",
    "    image_batch,label_batch = tf.train.batch([image,label],batch_size = batch_size,num_threads=16,capacity = capacity)\n",
    "\n",
    "    label_batch = tf.reshape(label_batch,[batch_size])\n",
    "    return image_batch,label_batch\n",
    "    "
   ]
  },
  {
   "cell_type": "code",
   "execution_count": 14,
   "metadata": {},
   "outputs": [
    {
     "name": "stdout",
     "output_type": "stream",
     "text": [
      "label: 1\n"
     ]
    },
    {
     "data": {
      "image/png": "[encoded data removed]",
      "text/plain": [
       "<matplotlib.figure.Figure at 0x18176d2ba8>"
      ]
     },
     "metadata": {},
     "output_type": "display_data"
    },
    {
     "name": "stdout",
     "output_type": "stream",
     "text": [
      "label: 1\n"
     ]
    },
    {
     "data": {
      "image/png": "[encoded data removed]",
      "text/plain": [
       "<matplotlib.figure.Figure at 0x10694d320>"
      ]
     },
     "metadata": {},
     "output_type": "display_data"
    },
    {
     "name": "stdout",
     "output_type": "stream",
     "text": [
      "label: 0\n"
     ]
    },
    {
     "data": {
      "image/png": "[encoded data removed]",
      "text/plain": [
       "<matplotlib.figure.Figure at 0x18205bdc18>"
      ]
     },
     "metadata": {},
     "output_type": "display_data"
    },
    {
     "name": "stdout",
     "output_type": "stream",
     "text": [
      "label: 0\n"
     ]
    },
    {
     "data": {
      "image/png": "[encoded data removed]",
      "text/plain": [
       "<matplotlib.figure.Figure at 0x181759d748>"
      ]
     },
     "metadata": {},
     "output_type": "display_data"
    },
    {
     "name": "stdout",
     "output_type": "stream",
     "text": [
      "label: 0\n"
     ]
    },
    {
     "data": {
      "image/png": "[encoded data removed]",
      "text/plain": [
       "<matplotlib.figure.Figure at 0x1817618ac8>"
      ]
     },
     "metadata": {},
     "output_type": "display_data"
    },
    {
     "name": "stdout",
     "output_type": "stream",
     "text": [
      "label: 1\n"
     ]
    },
    {
     "data": {
      "image/png": "[encoded data removed]",
      "text/plain": [
       "<matplotlib.figure.Figure at 0x1817593b70>"
      ]
     },
     "metadata": {},
     "output_type": "display_data"
    },
    {
     "name": "stdout",
     "output_type": "stream",
     "text": [
      "label: 1\n"
     ]
    },
    {
     "data": {
      "image/png": "[encoded data removed]",
      "text/plain": [
       "<matplotlib.figure.Figure at 0x111a47c18>"
      ]
     },
     "metadata": {},
     "output_type": "display_data"
    },
    {
     "name": "stdout",
     "output_type": "stream",
     "text": [
      "label: 1\n"
     ]
    },
    {
     "data": {
      "image/png": "[encoded data removed]",
      "text/plain": [
       "<matplotlib.figure.Figure at 0x111b11f98>"
      ]
     },
     "metadata": {},
     "output_type": "display_data"
    },
    {
     "name": "stdout",
     "output_type": "stream",
     "text": [
      "label: 0\n"
     ]
    },
    {
     "data": {
      "image/png": "[encoded data removed]",
      "text/plain": [
       "<matplotlib.figure.Figure at 0x111be3cf8>"
      ]
     },
     "metadata": {},
     "output_type": "display_data"
    },
    {
     "name": "stdout",
     "output_type": "stream",
     "text": [
      "label: 0\n"
     ]
    },
    {
     "data": {
      "image/png": "[encoded data removed]",
      "text/plain": [
       "<matplotlib.figure.Figure at 0x111cbd7b8>"
      ]
     },
     "metadata": {},
     "output_type": "display_data"
    }
   ],
   "source": [
    "# Show and Check images\n",
    "\n",
    "BATCH_SIZE = 5\n",
    "CAPACITY = 64\n",
    "IMG_W = 28\n",
    "IMG_H = 28\n",
    "\n",
    "image_list,label_list = get_files()\n",
    "image_batch,label_batch = get_batch(image_list,label_list,IMG_W,IMG_H,BATCH_SIZE,CAPACITY)\n",
    "\n",
    "with tf.Session() as sess:\n",
    "    i=0\n",
    "    coord = tf.train.Coordinator()\n",
    "    threads = tf.train.start_queue_runners(coord = coord)\n",
    "    try:\n",
    "        while not coord.should_stop() and i<2:\n",
    "        #提取出两个batch的图片并可视化。\n",
    "            img,label = sess.run([image_batch,label_batch])\n",
    "\n",
    "            for j in np.arange(BATCH_SIZE):\n",
    "                print('label: %d'%label[j])\n",
    "                plt.imshow(img[j,:,:,:])\n",
    "                plt.show()\n",
    "            i+=1\n",
    "    except tf.errors.OutOfRangeError:\n",
    "        print('done!')\n",
    "    finally:\n",
    "        coord.request_stop()\n",
    "    coord.join(threads)"
   ]
  },
  {
   "cell_type": "code",
   "execution_count": 15,
   "metadata": {
    "collapsed": true
   },
   "outputs": [],
   "source": [
    "# Multi_layer model\n",
    "def inference(images, batch_size, n_classes):\n",
    "    \n",
    "    # conv1, shape = [kernel_size, kernel_size, channels, kernel_numbers]\n",
    "    with tf.variable_scope(\"conv1\") as scope:\n",
    "        weights = tf.get_variable(\"weights\",\n",
    "                                  shape=[3, 3, 3, 16],\n",
    "                                  dtype=tf.float32,\n",
    "                                  initializer=tf.truncated_normal_initializer(stddev=0.1, dtype=tf.float32))\n",
    "        biases = tf.get_variable(\"biases\",\n",
    "                                 shape=[16],\n",
    "                                 dtype=tf.float32,\n",
    "                                 initializer=tf.constant_initializer(0.1))\n",
    "        conv = tf.nn.conv2d(images, weights, strides=[1, 1, 1, 1], padding=\"SAME\")\n",
    "        pre_activation = tf.nn.bias_add(conv, biases)\n",
    "        conv1 = tf.nn.relu(pre_activation, name=\"conv1\")\n",
    "\n",
    "    # pool1 && norm1\n",
    "    with tf.variable_scope(\"pooling1_lrn\") as scope:\n",
    "        pool1 = tf.nn.max_pool(conv1, ksize=[1, 3, 3, 1], strides=[1, 2, 2, 1],\n",
    "                               padding=\"SAME\", name=\"pooling1\")\n",
    "        norm1 = tf.nn.lrn(pool1, depth_radius=4, bias=1.0, alpha=0.001/9.0,\n",
    "                          beta=0.75, name='norm1')\n",
    "\n",
    "    # conv2\n",
    "    with tf.variable_scope(\"conv2\") as scope:\n",
    "        weights = tf.get_variable(\"weights\",\n",
    "                                  shape=[3, 3, 16, 16],\n",
    "                                  dtype=tf.float32,\n",
    "                                  initializer=tf.truncated_normal_initializer(stddev=0.1, dtype=tf.float32))\n",
    "        biases = tf.get_variable(\"biases\",\n",
    "                                 shape=[16],\n",
    "                                 dtype=tf.float32,\n",
    "                                 initializer=tf.constant_initializer(0.1))\n",
    "        conv = tf.nn.conv2d(norm1, weights, strides=[1, 1, 1, 1], padding=\"SAME\")\n",
    "        pre_activation = tf.nn.bias_add(conv, biases)\n",
    "        conv2 = tf.nn.relu(pre_activation, name=\"conv2\")\n",
    "\n",
    "    # pool2 && norm2\n",
    "    with tf.variable_scope(\"pooling2_lrn\") as scope:\n",
    "        pool2 = tf.nn.max_pool(conv2, ksize=[1, 3, 3, 1], strides=[1, 2, 2, 1],\n",
    "                               padding=\"SAME\", name=\"pooling2\")\n",
    "        norm2 = tf.nn.lrn(pool2, depth_radius=4, bias=1.0, alpha=0.001/9.0,\n",
    "                          beta=0.75, name='norm2')\n",
    "\n",
    "    # full-connect1\n",
    "    with tf.variable_scope(\"fc1\") as scope:\n",
    "        reshape = tf.reshape(norm2, shape=[batch_size, -1])\n",
    "        dim = reshape.get_shape()[1].value\n",
    "        weights = tf.get_variable(\"weights\",\n",
    "                                  shape=[dim, 128],\n",
    "                                  dtype=tf.float32,\n",
    "                                  initializer=tf.truncated_normal_initializer(stddev=0.005, dtype=tf.float32))\n",
    "        biases = tf.get_variable(\"biases\",\n",
    "                                 shape=[128],\n",
    "                                 dtype=tf.float32,\n",
    "                                 initializer=tf.constant_initializer(0.1))\n",
    "        fc1 = tf.nn.relu(tf.matmul(reshape, weights) + biases, name=\"fc1\")\n",
    "\n",
    "    # full_connect2\n",
    "    with tf.variable_scope(\"fc2\") as scope:\n",
    "        weights = tf.get_variable(\"weights\",\n",
    "                                  shape=[128, 128],\n",
    "                                  dtype=tf.float32,\n",
    "                                  initializer=tf.truncated_normal_initializer(stddev=0.005, dtype=tf.float32))\n",
    "        biases = tf.get_variable(\"biases\",\n",
    "                                 shape=[128],\n",
    "                                 dtype=tf.float32,\n",
    "                                 initializer=tf.constant_initializer(0.1))\n",
    "        fc2 = tf.nn.relu(tf.matmul(fc1, weights) + biases, name=\"fc2\")\n",
    "\n",
    "    # softmax\n",
    "    with tf.variable_scope(\"softmax_linear\") as scope:\n",
    "        weights = tf.get_variable(\"weights\",\n",
    "                                  shape=[128, n_classes],\n",
    "                                  dtype=tf.float32,\n",
    "                                  initializer=tf.truncated_normal_initializer(stddev=0.005, dtype=tf.float32))\n",
    "        biases = tf.get_variable(\"biases\",\n",
    "                                 shape=[n_classes],\n",
    "                                 dtype=tf.float32,\n",
    "                                 initializer=tf.constant_initializer(0.1))\n",
    "        softmax_linear = tf.add(tf.matmul(fc2, weights), biases, name=\"softmax_linear\")\n",
    "    return softmax_linear"
   ]
  },
  {
   "cell_type": "code",
   "execution_count": 16,
   "metadata": {
    "collapsed": true
   },
   "outputs": [],
   "source": [
    "def losses(logits, labels):\n",
    "    with tf.variable_scope(\"loss\") as scope:\n",
    "        cross_entropy = tf.nn.sparse_softmax_cross_entropy_with_logits(logits=logits,\n",
    "                                                                       labels=labels, name=\"xentropy_per_example\")\n",
    "        loss = tf.reduce_mean(cross_entropy, name=\"loss\")\n",
    "        tf.summary.scalar(scope.name + \"loss\", loss)\n",
    "    return loss"
   ]
  },
  {
   "cell_type": "code",
   "execution_count": 17,
   "metadata": {
    "collapsed": true
   },
   "outputs": [],
   "source": [
    "def trainning(loss, learning_rate):\n",
    "    with tf.name_scope(\"optimizer\"):\n",
    "        optimizer = tf.train.AdamOptimizer(learning_rate=learning_rate)\n",
    "        global_step = tf.Variable(0, name=\"global_step\", trainable=False)\n",
    "        train_op = optimizer.minimize(loss, global_step=global_step)\n",
    "    return train_op"
   ]
  },
  {
   "cell_type": "code",
   "execution_count": 18,
   "metadata": {
    "collapsed": true
   },
   "outputs": [],
   "source": [
    "def evaluation(logits, labels):\n",
    "    with tf.variable_scope(\"accuracy\") as scope:\n",
    "        correct = tf.nn.in_top_k(logits, labels, 1)\n",
    "        correct = tf.cast(correct, tf.float16)\n",
    "        accuracy = tf.reduce_mean(correct)\n",
    "        tf.summary.scalar(scope.name + \"accuracy\", accuracy)\n",
    "    return accuracy"
   ]
  },
  {
   "cell_type": "code",
   "execution_count": 19,
   "metadata": {
    "collapsed": true
   },
   "outputs": [],
   "source": [
    "def run_training():\n",
    "    logs_train_dir = '/Users/shangsuiyue/'\n",
    "    train,train_label = get_files()\n",
    "    train_batch,train_label_batch = get_batch(train,train_label,\n",
    "                                                         IMG_W,\n",
    "                                                         IMG_H,\n",
    "                                                         BATCH_SIZE,\n",
    "                                                         CAPACITY)\n",
    "    train_logits =inference(train_batch,BATCH_SIZE,N_CLASSES)\n",
    "    train_loss = losses(train_logits,train_label_batch)\n",
    "    train_op = trainning(train_loss,learning_rate)\n",
    "    train_acc = evaluation(train_logits,train_label_batch)\n",
    "\n",
    "    summary_op = tf.summary.merge_all()\n",
    "    sess = tf.Session()\n",
    "    train_writer = tf.summary.FileWriter(logs_train_dir,sess.graph)\n",
    "    saver = tf.train.Saver()\n",
    "\n",
    "    sess.run(tf.global_variables_initializer())\n",
    "    coord = tf.train.Coordinator()\n",
    "    threads = tf.train.start_queue_runners(sess = sess,coord = coord)\n",
    "\n",
    "    try:\n",
    "        for step in np.arange(MAX_STEP):\n",
    "            if coord.should_stop():\n",
    "                break\n",
    "            _,tra_loss,tra_acc = sess.run([train_op,train_loss,train_acc])\n",
    "            if step % 50 == 0:\n",
    "                print('Step %d,train loss = %.2f,train occuracy = %.2f'%(step,tra_loss,tra_acc))\n",
    "                summary_str = sess.run(summary_op)\n",
    "                train_writer.add_summary(summary_str,step)\n",
    "\n",
    "            if step % 100 ==0 or (step +1) == MAX_STEP:\n",
    "                checkpoint_path = os.path.join(logs_train_dir,'model.ckpt')\n",
    "                saver.save(sess,checkpoint_path,global_step = step)\n",
    "                \n",
    "\n",
    "    except tf.errors.OutOfRangeError:\n",
    "        print('Done training epoch limit reached')\n",
    "    finally:\n",
    "        coord.request_stop()\n",
    "\n",
    "    coord.join(threads)\n",
    "    sess.close()"
   ]
  },
  {
   "cell_type": "code",
   "execution_count": 20,
   "metadata": {},
   "outputs": [],
   "source": [
    "# Parameters\n",
    "N_CLASSES = 2  # classification\n",
    "IMG_W = 28     # Image size\n",
    "IMG_H = 28\n",
    "BATCH_SIZE = 8 # Batch size\n",
    "CAPACITY = 64\n",
    "MAX_STEP = 10000 # Iteration\n",
    "learning_rate = 0.0001\n",
    "\n",
    "\n"
   ]
  },
  {
   "cell_type": "code",
   "execution_count": 21,
   "metadata": {},
   "outputs": [
    {
     "name": "stdout",
     "output_type": "stream",
     "text": [
      "Step 0,train loss = 0.69,train occuracy = 0.38\n",
      "Step 50,train loss = 0.67,train occuracy = 0.50\n",
      "Step 100,train loss = 0.29,train occuracy = 1.00\n",
      "Step 150,train loss = 0.07,train occuracy = 1.00\n",
      "Step 200,train loss = 0.23,train occuracy = 0.88\n",
      "Step 250,train loss = 0.03,train occuracy = 1.00\n",
      "Step 300,train loss = 0.10,train occuracy = 0.88\n",
      "Step 350,train loss = 0.03,train occuracy = 1.00\n",
      "Step 400,train loss = 0.01,train occuracy = 1.00\n",
      "Step 450,train loss = 0.01,train occuracy = 1.00\n",
      "Step 500,train loss = 0.32,train occuracy = 0.88\n",
      "Step 550,train loss = 0.00,train occuracy = 1.00\n",
      "Step 600,train loss = 0.01,train occuracy = 1.00\n",
      "Step 650,train loss = 0.24,train occuracy = 0.88\n",
      "Step 700,train loss = 0.03,train occuracy = 1.00\n",
      "Step 750,train loss = 0.00,train occuracy = 1.00\n",
      "Step 800,train loss = 0.01,train occuracy = 1.00\n",
      "Step 850,train loss = 0.27,train occuracy = 0.88\n",
      "Step 900,train loss = 0.05,train occuracy = 1.00\n",
      "Step 950,train loss = 0.01,train occuracy = 1.00\n",
      "Step 1000,train loss = 0.39,train occuracy = 0.75\n",
      "Step 1050,train loss = 0.07,train occuracy = 1.00\n",
      "Step 1100,train loss = 0.01,train occuracy = 1.00\n",
      "Step 1150,train loss = 0.00,train occuracy = 1.00\n",
      "Step 1200,train loss = 0.00,train occuracy = 1.00\n",
      "Step 1250,train loss = 0.00,train occuracy = 1.00\n",
      "Step 1300,train loss = 0.01,train occuracy = 1.00\n",
      "Step 1350,train loss = 0.00,train occuracy = 1.00\n",
      "Step 1400,train loss = 0.02,train occuracy = 1.00\n",
      "Step 1450,train loss = 0.01,train occuracy = 1.00\n",
      "Step 1500,train loss = 0.00,train occuracy = 1.00\n",
      "Step 1550,train loss = 0.02,train occuracy = 1.00\n",
      "Step 1600,train loss = 0.07,train occuracy = 1.00\n",
      "Step 1650,train loss = 0.02,train occuracy = 1.00\n",
      "Step 1700,train loss = 0.00,train occuracy = 1.00\n",
      "Step 1750,train loss = 0.01,train occuracy = 1.00\n",
      "Step 1800,train loss = 0.01,train occuracy = 1.00\n",
      "Step 1850,train loss = 0.00,train occuracy = 1.00\n",
      "Step 1900,train loss = 0.00,train occuracy = 1.00\n",
      "Step 1950,train loss = 0.01,train occuracy = 1.00\n",
      "Step 2000,train loss = 0.07,train occuracy = 1.00\n",
      "Step 2050,train loss = 0.00,train occuracy = 1.00\n",
      "Step 2100,train loss = 0.03,train occuracy = 1.00\n",
      "Step 2150,train loss = 0.02,train occuracy = 1.00\n",
      "Step 2200,train loss = 0.00,train occuracy = 1.00\n",
      "Step 2250,train loss = 0.01,train occuracy = 1.00\n",
      "Step 2300,train loss = 0.00,train occuracy = 1.00\n",
      "Step 2350,train loss = 0.05,train occuracy = 1.00\n",
      "Step 2400,train loss = 0.10,train occuracy = 1.00\n",
      "Step 2450,train loss = 0.00,train occuracy = 1.00\n",
      "Step 2500,train loss = 0.28,train occuracy = 0.88\n",
      "Step 2550,train loss = 0.03,train occuracy = 1.00\n",
      "Step 2600,train loss = 0.02,train occuracy = 1.00\n",
      "Step 2650,train loss = 0.02,train occuracy = 1.00\n",
      "Step 2700,train loss = 0.00,train occuracy = 1.00\n",
      "Step 2750,train loss = 0.00,train occuracy = 1.00\n",
      "Step 2800,train loss = 0.00,train occuracy = 1.00\n",
      "Step 2850,train loss = 0.02,train occuracy = 1.00\n",
      "Step 2900,train loss = 0.00,train occuracy = 1.00\n",
      "Step 2950,train loss = 0.05,train occuracy = 1.00\n",
      "Step 3000,train loss = 0.01,train occuracy = 1.00\n",
      "Step 3050,train loss = 0.01,train occuracy = 1.00\n",
      "Step 3100,train loss = 0.01,train occuracy = 1.00\n",
      "Step 3150,train loss = 0.04,train occuracy = 1.00\n",
      "Step 3200,train loss = 0.00,train occuracy = 1.00\n",
      "Step 3250,train loss = 0.01,train occuracy = 1.00\n",
      "Step 3300,train loss = 0.02,train occuracy = 1.00\n",
      "Step 3350,train loss = 0.15,train occuracy = 0.88\n",
      "Step 3400,train loss = 0.00,train occuracy = 1.00\n",
      "Step 3450,train loss = 0.01,train occuracy = 1.00\n",
      "Step 3500,train loss = 0.00,train occuracy = 1.00\n",
      "Step 3550,train loss = 0.00,train occuracy = 1.00\n",
      "Step 3600,train loss = 0.01,train occuracy = 1.00\n",
      "Step 3650,train loss = 0.00,train occuracy = 1.00\n",
      "Step 3700,train loss = 0.30,train occuracy = 0.88\n",
      "Step 3750,train loss = 0.00,train occuracy = 1.00\n",
      "Step 3800,train loss = 0.00,train occuracy = 1.00\n",
      "Step 3850,train loss = 0.00,train occuracy = 1.00\n",
      "Step 3900,train loss = 0.19,train occuracy = 0.88\n",
      "Step 3950,train loss = 0.00,train occuracy = 1.00\n",
      "Step 4000,train loss = 0.01,train occuracy = 1.00\n",
      "Step 4050,train loss = 0.04,train occuracy = 1.00\n",
      "Step 4100,train loss = 0.01,train occuracy = 1.00\n",
      "Step 4150,train loss = 0.00,train occuracy = 1.00\n",
      "Step 4200,train loss = 0.00,train occuracy = 1.00\n",
      "Step 4250,train loss = 0.01,train occuracy = 1.00\n",
      "Step 4300,train loss = 0.00,train occuracy = 1.00\n",
      "Step 4350,train loss = 0.00,train occuracy = 1.00\n",
      "Step 4400,train loss = 0.00,train occuracy = 1.00\n",
      "Step 4450,train loss = 0.06,train occuracy = 1.00\n",
      "Step 4500,train loss = 0.00,train occuracy = 1.00\n",
      "Step 4550,train loss = 0.00,train occuracy = 1.00\n",
      "Step 4600,train loss = 0.00,train occuracy = 1.00\n",
      "Step 4650,train loss = 0.01,train occuracy = 1.00\n",
      "Step 4700,train loss = 0.00,train occuracy = 1.00\n",
      "Step 4750,train loss = 0.02,train occuracy = 1.00\n",
      "Step 4800,train loss = 0.05,train occuracy = 1.00\n",
      "Step 4850,train loss = 0.23,train occuracy = 0.88\n",
      "Step 4900,train loss = 0.07,train occuracy = 1.00\n",
      "Step 4950,train loss = 0.00,train occuracy = 1.00\n",
      "Step 5000,train loss = 0.00,train occuracy = 1.00\n",
      "Step 5050,train loss = 0.00,train occuracy = 1.00\n",
      "Step 5100,train loss = 0.00,train occuracy = 1.00\n",
      "Step 5150,train loss = 0.00,train occuracy = 1.00\n",
      "Step 5200,train loss = 0.01,train occuracy = 1.00\n",
      "Step 5250,train loss = 0.00,train occuracy = 1.00\n",
      "Step 5300,train loss = 0.00,train occuracy = 1.00\n",
      "Step 5350,train loss = 0.00,train occuracy = 1.00\n",
      "Step 5400,train loss = 0.21,train occuracy = 0.88\n",
      "Step 5450,train loss = 0.00,train occuracy = 1.00\n",
      "Step 5500,train loss = 0.03,train occuracy = 1.00\n",
      "Step 5550,train loss = 0.00,train occuracy = 1.00\n",
      "Step 5600,train loss = 0.00,train occuracy = 1.00\n",
      "Step 5650,train loss = 0.04,train occuracy = 1.00\n",
      "Step 5700,train loss = 0.00,train occuracy = 1.00\n",
      "Step 5750,train loss = 0.07,train occuracy = 1.00\n",
      "Step 5800,train loss = 0.00,train occuracy = 1.00\n",
      "Step 5850,train loss = 0.01,train occuracy = 1.00\n",
      "Step 5900,train loss = 0.00,train occuracy = 1.00\n",
      "Step 5950,train loss = 0.00,train occuracy = 1.00\n",
      "Step 6000,train loss = 0.00,train occuracy = 1.00\n",
      "Step 6050,train loss = 0.00,train occuracy = 1.00\n",
      "Step 6100,train loss = 0.00,train occuracy = 1.00\n",
      "Step 6150,train loss = 0.00,train occuracy = 1.00\n",
      "Step 6200,train loss = 0.01,train occuracy = 1.00\n",
      "Step 6250,train loss = 0.00,train occuracy = 1.00\n",
      "Step 6300,train loss = 0.00,train occuracy = 1.00\n",
      "Step 6350,train loss = 0.00,train occuracy = 1.00\n",
      "Step 6400,train loss = 0.00,train occuracy = 1.00\n",
      "Step 6450,train loss = 0.04,train occuracy = 1.00\n",
      "Step 6500,train loss = 0.03,train occuracy = 1.00\n",
      "Step 6550,train loss = 0.00,train occuracy = 1.00\n",
      "Step 6600,train loss = 0.00,train occuracy = 1.00\n",
      "Step 6650,train loss = 0.00,train occuracy = 1.00\n",
      "Step 6700,train loss = 0.00,train occuracy = 1.00\n",
      "Step 6750,train loss = 0.01,train occuracy = 1.00\n",
      "Step 6800,train loss = 0.00,train occuracy = 1.00\n",
      "Step 6850,train loss = 0.00,train occuracy = 1.00\n",
      "Step 6900,train loss = 0.00,train occuracy = 1.00\n",
      "Step 6950,train loss = 0.00,train occuracy = 1.00\n",
      "Step 7000,train loss = 0.01,train occuracy = 1.00\n",
      "Step 7050,train loss = 0.00,train occuracy = 1.00\n",
      "Step 7100,train loss = 0.95,train occuracy = 0.88\n",
      "Step 7150,train loss = 0.01,train occuracy = 1.00\n",
      "Step 7200,train loss = 0.00,train occuracy = 1.00\n",
      "Step 7250,train loss = 0.00,train occuracy = 1.00\n",
      "Step 7300,train loss = 0.00,train occuracy = 1.00\n",
      "Step 7350,train loss = 0.03,train occuracy = 1.00\n",
      "Step 7400,train loss = 0.00,train occuracy = 1.00\n",
      "Step 7450,train loss = 0.00,train occuracy = 1.00\n",
      "Step 7500,train loss = 0.00,train occuracy = 1.00\n",
      "Step 7550,train loss = 0.00,train occuracy = 1.00\n",
      "Step 7600,train loss = 0.00,train occuracy = 1.00\n",
      "Step 7650,train loss = 0.00,train occuracy = 1.00\n",
      "Step 7700,train loss = 0.00,train occuracy = 1.00\n",
      "Step 7750,train loss = 0.00,train occuracy = 1.00\n",
      "Step 7800,train loss = 0.00,train occuracy = 1.00\n",
      "Step 7850,train loss = 0.04,train occuracy = 1.00\n",
      "Step 7900,train loss = 0.03,train occuracy = 1.00\n",
      "Step 7950,train loss = 0.02,train occuracy = 1.00\n",
      "Step 8000,train loss = 0.00,train occuracy = 1.00\n",
      "Step 8050,train loss = 0.00,train occuracy = 1.00\n",
      "Step 8100,train loss = 0.00,train occuracy = 1.00\n",
      "Step 8150,train loss = 0.01,train occuracy = 1.00\n",
      "Step 8200,train loss = 0.00,train occuracy = 1.00\n"
     ]
    },
    {
     "name": "stdout",
     "output_type": "stream",
     "text": [
      "Step 8250,train loss = 0.00,train occuracy = 1.00\n",
      "Step 8300,train loss = 0.00,train occuracy = 1.00\n",
      "Step 8350,train loss = 0.00,train occuracy = 1.00\n",
      "Step 8400,train loss = 0.00,train occuracy = 1.00\n",
      "Step 8450,train loss = 0.00,train occuracy = 1.00\n",
      "Step 8500,train loss = 0.00,train occuracy = 1.00\n",
      "Step 8550,train loss = 0.00,train occuracy = 1.00\n",
      "Step 8600,train loss = 0.00,train occuracy = 1.00\n",
      "Step 8650,train loss = 0.00,train occuracy = 1.00\n",
      "Step 8700,train loss = 0.00,train occuracy = 1.00\n",
      "Step 8750,train loss = 0.00,train occuracy = 1.00\n",
      "Step 8800,train loss = 0.00,train occuracy = 1.00\n",
      "Step 8850,train loss = 0.00,train occuracy = 1.00\n",
      "Step 8900,train loss = 0.00,train occuracy = 1.00\n",
      "Step 8950,train loss = 0.00,train occuracy = 1.00\n",
      "Step 9000,train loss = 0.00,train occuracy = 1.00\n",
      "Step 9050,train loss = 0.00,train occuracy = 1.00\n",
      "Step 9100,train loss = 0.00,train occuracy = 1.00\n",
      "Step 9150,train loss = 0.01,train occuracy = 1.00\n",
      "Step 9200,train loss = 0.00,train occuracy = 1.00\n",
      "Step 9250,train loss = 0.00,train occuracy = 1.00\n",
      "Step 9300,train loss = 0.00,train occuracy = 1.00\n",
      "Step 9350,train loss = 0.00,train occuracy = 1.00\n",
      "Step 9400,train loss = 0.00,train occuracy = 1.00\n",
      "Step 9450,train loss = 0.00,train occuracy = 1.00\n",
      "Step 9500,train loss = 0.00,train occuracy = 1.00\n",
      "Step 9550,train loss = 0.00,train occuracy = 1.00\n",
      "Step 9600,train loss = 0.00,train occuracy = 1.00\n",
      "Step 9650,train loss = 0.00,train occuracy = 1.00\n",
      "Step 9700,train loss = 0.00,train occuracy = 1.00\n",
      "Step 9750,train loss = 0.00,train occuracy = 1.00\n",
      "Step 9800,train loss = 0.01,train occuracy = 1.00\n",
      "Step 9850,train loss = 0.00,train occuracy = 1.00\n",
      "Step 9900,train loss = 0.00,train occuracy = 1.00\n",
      "Step 9950,train loss = 0.00,train occuracy = 1.00\n"
     ]
    }
   ],
   "source": [
    "# Training the model\n",
    "tf.reset_default_graph()\n",
    "run = run_training()"
   ]
  },
  {
   "cell_type": "code",
   "execution_count": null,
   "metadata": {
    "collapsed": true
   },
   "outputs": [],
   "source": []
  },
  {
   "cell_type": "code",
   "execution_count": null,
   "metadata": {
    "collapsed": true
   },
   "outputs": [],
   "source": []
  }
 ],
 "metadata": {
  "kernelspec": {
   "display_name": "Python 3",
   "language": "python",
   "name": "python3"
  },
  "language_info": {
   "codemirror_mode": {
    "name": "ipython",
    "version": 3
   },
   "file_extension": ".py",
   "mimetype": "text/x-python",
   "name": "python",
   "nbconvert_exporter": "python",
   "pygments_lexer": "ipython3",
   "version": "3.6.2"
  }
 },
 "nbformat": 4,
 "nbformat_minor": 2
}
